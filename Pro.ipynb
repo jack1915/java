{
 "cells": [
  {
   "cell_type": "code",
   "execution_count": null,
   "id": "831457ef",
   "metadata": {},
   "outputs": [],
   "source": [
    "import matplotlib.pyplot as plt\n",
    "# plt.rcParams[\"figure.figsize\"]= 10,5"
   ]
  },
  {
   "cell_type": "code",
   "execution_count": null,
   "id": "a1757791",
   "metadata": {},
   "outputs": [],
   "source": [
    "from sympy import *\n",
    "from sympy.plotting import plot\n",
    "# init_printing()"
   ]
  },
  {
   "cell_type": "code",
   "execution_count": null,
   "id": "b855ae72",
   "metadata": {},
   "outputs": [],
   "source": [
    "x = Symbol('x')"
   ]
  },
  {
   "cell_type": "code",
   "execution_count": null,
   "id": "58ed885c",
   "metadata": {},
   "outputs": [],
   "source": [
    "f = -18 * x ** 3 + 5 * x ** 2 + 10 * x - 30\n",
    "# f = 2 * x ** 3 + 2 * x ** 2 - 18 * x - 18\n",
    "# f = (x ** 2 + 3) / (3 * (x + 1))\n"
   ]
  },
  {
   "cell_type": "code",
   "execution_count": null,
   "id": "11bdaa32",
   "metadata": {},
   "outputs": [],
   "source": [
    "solveset(f, x, Reals).evalf(2)"
   ]
  },
  {
   "cell_type": "code",
   "execution_count": null,
   "id": "0e5b6e6f",
   "metadata": {},
   "outputs": [],
   "source": [
    "f_diff = [-oo, oo]\n",
    "f_diff[1:1] = solveset(diff(f), x, Reals.evalf(2))\n",
    "incr_list = []\n",
    "decr_list = []\n",
    "for i in range(1, len(f_diff)):\n",
    "    val = is_increasing(f, Interval.open(f_diff[i - 1], f_diff[i]))\n",
    "    if val:\n",
    "        incr_list.append(f\"[{f_diff[i - 1]}, {f_diff[i]}]\")\n",
    "    else:\n",
    "        decr_list.append(f\"[{f_diff[i - 1]}, {f_diff[i]}]\")\n",
    "print(f\"Убывает на интервалах:\", *decr_list, sep=\"\\n\")        \n",
    "print(f\"Возрастает на интервалах:\", *incr_list, sep=\"\\n\")        "
   ]
  },
  {
   "cell_type": "code",
   "execution_count": null,
   "id": "7eb16bc0",
   "metadata": {},
   "outputs": [],
   "source": [
    "plot(f, (x, -1, 1), legend=True)\n",
    "\n",
    "# plot(f, (x, -4, 1), legend=True)\n",
    "\n",
    "# plot(f, (x, -4, 3), ylim=(-5, 5) legend=True)\n",
    "\n",
    "# f1 = plot(f, (x, -5, 1.1), show=False)\n",
    "# f2 = plot(f, (x, -0.9, 5), show=False)\n",
    "# f1.append(f2[0])\n",
    "# f1.show()\n",
    "# plot(f, (x, -1, 1.2), legend=True)"
   ]
  },
  {
   "cell_type": "code",
   "execution_count": null,
   "id": "a8140e05",
   "metadata": {},
   "outputs": [],
   "source": [
    "from random import uniform\n",
    "\n",
    "f_diff = sorted(solveset(diff(f), x, Reals).evalf(2))\n",
    "f_diff.insert(0, f_diff[0] - 1)\n",
    "f1 = diff(f)\n",
    "ext_list = []\n",
    "for i, val in enumerate(f_diff):\n",
    "    ext_list.append(f1.subs(x, uniform(val, f_diff[i] + 1)))\n",
    "    if i != 0:\n",
    "        if ext_list[i - 1] < 0 < ext_list[i]:\n",
    "            print(f\"точка мин : {val}, {f.subs(x, val).evalf(2)}\")\n",
    "        elif ext_list[i - 1] > 0 > ext_list[i]:\n",
    "            print(f\"точка макс : {val}, {f.subs(x, val).evalf(2)}\")\n",
    "    "
   ]
  },
  {
   "cell_type": "code",
   "execution_count": null,
   "id": "8efdff1a",
   "metadata": {},
   "outputs": [],
   "source": [
    "print (\"f > 0:\", end=\"\")\n",
    "solveset(f > 0, x, Reals).evalf(2)"
   ]
  },
  {
   "cell_type": "code",
   "execution_count": null,
   "id": "f88e415b",
   "metadata": {},
   "outputs": [],
   "source": [
    "print (\"f < 0:\", end=\"\")\n",
    "solveset(f < 0, x, Reals).evalf(2)"
   ]
  },
  {
   "cell_type": "code",
   "execution_count": null,
   "id": "ffc20ddb",
   "metadata": {},
   "outputs": [],
   "source": []
  }
 ],
 "metadata": {
  "kernelspec": {
   "display_name": "Python 3 (ipykernel)",
   "language": "python",
   "name": "python3"
  },
  "language_info": {
   "codemirror_mode": {
    "name": "ipython",
    "version": 3
   },
   "file_extension": ".py",
   "mimetype": "text/x-python",
   "name": "python",
   "nbconvert_exporter": "python",
   "pygments_lexer": "ipython3",
   "version": "3.9.12"
  }
 },
 "nbformat": 4,
 "nbformat_minor": 5
}
