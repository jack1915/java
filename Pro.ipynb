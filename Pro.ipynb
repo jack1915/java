{
 "cells": [
  {
   "cell_type": "code",
   "execution_count": 3,
   "id": "831457ef",
   "metadata": {},
   "outputs": [],
   "source": [
    "import matplotlib.pyplot as plt\n",
    "# plt.rcParams[\"figure.figsize\"]= 10,5"
   ]
  },
  {
   "cell_type": "code",
   "execution_count": 5,
   "id": "b7c4ebae",
   "metadata": {},
   "outputs": [
    {
     "name": "stdout",
     "output_type": "stream",
     "text": [
      "Collecting sympy\n",
      "  Downloading sympy-1.11.1-py3-none-any.whl (6.5 MB)\n",
      "Collecting mpmath>=0.19\n",
      "  Downloading mpmath-1.2.1-py3-none-any.whl (532 kB)\n",
      "Installing collected packages: mpmath, sympy\n",
      "Successfully installed mpmath-1.2.1 sympy-1.11.1\n",
      "Note: you may need to restart the kernel to use updated packages.\n"
     ]
    }
   ],
   "source": [
    "pip install sympy"
   ]
  },
  {
   "cell_type": "code",
   "execution_count": 6,
   "id": "a1757791",
   "metadata": {},
   "outputs": [],
   "source": [
    "from sympy import *\n",
    "from sympy.plotting import plot\n",
    "# init_printing()"
   ]
  },
  {
   "cell_type": "code",
   "execution_count": 7,
   "id": "b855ae72",
   "metadata": {},
   "outputs": [],
   "source": [
    "x = Symbol('x')"
   ]
  },
  {
   "cell_type": "code",
   "execution_count": 8,
   "id": "58ed885c",
   "metadata": {},
   "outputs": [],
   "source": [
    "f = -18 * x ** 3 + 5 * x ** 2 + 10 * x - 30\n",
    "# f = 2 * x ** 3 + 2 * x ** 2 - 18 * x - 18\n",
    "# f = (x ** 2 + 3) / (3 * (x + 1))\n"
   ]
  },
  {
   "cell_type": "code",
   "execution_count": 9,
   "id": "11bdaa32",
   "metadata": {},
   "outputs": [
    {
     "data": {
      "text/latex": [
       "$\\displaystyle \\left\\{-1.2\\right\\}$"
      ],
      "text/plain": [
       "{-1.2}"
      ]
     },
     "execution_count": 9,
     "metadata": {},
     "output_type": "execute_result"
    }
   ],
   "source": [
    "solveset(f, x, Reals).evalf(2)"
   ]
  },
  {
   "cell_type": "code",
   "execution_count": 10,
   "id": "0e5b6e6f",
   "metadata": {},
   "outputs": [
    {
     "name": "stdout",
     "output_type": "stream",
     "text": [
      "Убывает на интервалах:\n",
      "[-oo, 5/54 - sqrt(565)/54]\n",
      "[5/54 + sqrt(565)/54, oo]\n",
      "Возрастает на интервалах:\n",
      "[5/54 - sqrt(565)/54, 5/54 + sqrt(565)/54]\n"
     ]
    }
   ],
   "source": [
    "f_diff = [-oo, oo]\n",
    "f_diff[1:1] = solveset(diff(f), x, Reals.evalf(2))\n",
    "incr_list = []\n",
    "decr_list = []\n",
    "for i in range(1, len(f_diff)):\n",
    "    val = is_increasing(f, Interval.open(f_diff[i - 1], f_diff[i]))\n",
    "    if val:\n",
    "        incr_list.append(f\"[{f_diff[i - 1]}, {f_diff[i]}]\")\n",
    "    else:\n",
    "        decr_list.append(f\"[{f_diff[i - 1]}, {f_diff[i]}]\")\n",
    "print(f\"Убывает на интервалах:\", *decr_list, sep=\"\\n\")        \n",
    "print(f\"Возрастает на интервалах:\", *incr_list, sep=\"\\n\")        "
   ]
  },
  {
   "cell_type": "code",
   "execution_count": 11,
   "id": "7eb16bc0",
   "metadata": {},
   "outputs": [
    {
     "data": {
      "image/png": "[encoded data removed]",
      "text/plain": [
       "<Figure size 432x288 with 1 Axes>"
      ]
     },
     "metadata": {
      "needs_background": "light"
     },
     "output_type": "display_data"
    },
    {
     "data": {
      "text/plain": [
       "<sympy.plotting.plot.Plot at 0x1e5eab9d490>"
      ]
     },
     "execution_count": 11,
     "metadata": {},
     "output_type": "execute_result"
    }
   ],
   "source": [
    "plot(f, (x, -1, 1), legend=True)\n",
    "\n",
    "# plot(f, (x, -4, 1), legend=True)\n",
    "\n",
    "# plot(f, (x, -4, 3), ylim=(-5, 5) legend=True)\n",
    "\n",
    "# f1 = plot(f, (x, -5, 1.1), show=False)\n",
    "# f2 = plot(f, (x, -0.9, 5), show=False)\n",
    "# f1.append(f2[0])\n",
    "# f1.show()\n",
    "# plot(f, (x, -1, 1.2), legend=True)"
   ]
  },
  {
   "cell_type": "code",
   "execution_count": 12,
   "id": "a8140e05",
   "metadata": {},
   "outputs": [
    {
     "name": "stdout",
     "output_type": "stream",
     "text": [
      "точка мин : -0.35, -32\n",
      "точка макс : 0.53, -26\n"
     ]
    }
   ],
   "source": [
    "from random import uniform\n",
    "\n",
    "f_diff = sorted(solveset(diff(f), x, Reals).evalf(2))\n",
    "f_diff.insert(0, f_diff[0] - 1)\n",
    "f1 = diff(f)\n",
    "ext_list = []\n",
    "for i, val in enumerate(f_diff):\n",
    "    ext_list.append(f1.subs(x, uniform(val, f_diff[i] + 1)))\n",
    "    if i != 0:\n",
    "        if ext_list[i - 1] < 0 < ext_list[i]:\n",
    "            print(f\"точка мин : {val}, {f.subs(x, val).evalf(2)}\")\n",
    "        elif ext_list[i - 1] > 0 > ext_list[i]:\n",
    "            print(f\"точка макс : {val}, {f.subs(x, val).evalf(2)}\")\n",
    "    "
   ]
  },
  {
   "cell_type": "code",
   "execution_count": 13,
   "id": "8efdff1a",
   "metadata": {},
   "outputs": [
    {
     "name": "stdout",
     "output_type": "stream",
     "text": [
      "f > 0:"
     ]
    },
    {
     "data": {
      "text/latex": [
       "$\\displaystyle \\left(-\\infty, -1.2\\right)$"
      ],
      "text/plain": [
       "Interval.open(-oo, -1.2)"
      ]
     },
     "execution_count": 13,
     "metadata": {},
     "output_type": "execute_result"
    }
   ],
   "source": [
    "print (\"f > 0:\", end=\"\")\n",
    "solveset(f > 0, x, Reals).evalf(2)"
   ]
  },
  {
   "cell_type": "code",
   "execution_count": 14,
   "id": "f88e415b",
   "metadata": {},
   "outputs": [
    {
     "name": "stdout",
     "output_type": "stream",
     "text": [
      "f < 0:"
     ]
    },
    {
     "data": {
      "text/latex": [
       "$\\displaystyle \\left(-1.2, \\infty\\right)$"
      ],
      "text/plain": [
       "Interval.open(-1.2, oo)"
      ]
     },
     "execution_count": 14,
     "metadata": {},
     "output_type": "execute_result"
    }
   ],
   "source": [
    "print (\"f < 0:\", end=\"\")\n",
    "solveset(f < 0, x, Reals).evalf(2)"
   ]
  },
  {
   "cell_type": "code",
   "execution_count": null,
   "id": "ffc20ddb",
   "metadata": {},
   "outputs": [],
   "source": []
  }
 ],
 "metadata": {
  "kernelspec": {
   "display_name": "Python 3 (ipykernel)",
   "language": "python",
   "name": "python3"
  },
  "language_info": {
   "codemirror_mode": {
    "name": "ipython",
    "version": 3
   },
   "file_extension": ".py",
   "mimetype": "text/x-python",
   "name": "python",
   "nbconvert_exporter": "python",
   "pygments_lexer": "ipython3",
   "version": "3.9.12"
  }
 },
 "nbformat": 4,
 "nbformat_minor": 5
}
